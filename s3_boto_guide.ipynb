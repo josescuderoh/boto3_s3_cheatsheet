{
 "metadata": {
  "language_info": {
   "codemirror_mode": {
    "name": "ipython",
    "version": 3
   },
   "file_extension": ".py",
   "mimetype": "text/x-python",
   "name": "python",
   "nbconvert_exporter": "python",
   "pygments_lexer": "ipython3",
   "version": "3.8.3-final"
  },
  "orig_nbformat": 2,
  "kernelspec": {
   "name": "python3",
   "display_name": "Python 3",
   "language": "python"
  }
 },
 "nbformat": 4,
 "nbformat_minor": 2,
 "cells": [
  {
   "source": [
    "# Boto3 and S3 Cheatsheet"
   ],
   "cell_type": "markdown",
   "metadata": {}
  },
  {
   "source": [
    "The following notebook compiles a set of tutorials for interaction with S3 resources using boto3 SDK from Python."
   ],
   "cell_type": "markdown",
   "metadata": {}
  },
  {
   "cell_type": "code",
   "execution_count": 1,
   "metadata": {},
   "outputs": [],
   "source": [
    "import boto3\n",
    "import json\n",
    "import os\n",
    "import uuid\n",
    "import pandas as pd"
   ]
  },
  {
   "source": [
    "Change the default profile"
   ],
   "cell_type": "markdown",
   "metadata": {}
  },
  {
   "cell_type": "code",
   "execution_count": 2,
   "metadata": {},
   "outputs": [],
   "source": [
    "session = boto3.session.Session(profile_name='boto3user')"
   ]
  },
  {
   "source": [
    "Two options here:\n",
    "\n",
    "s3_client = session.client('s3')\n",
    "\n",
    "s3_resource = session.resource('s3')"
   ],
   "cell_type": "markdown",
   "metadata": {}
  },
  {
   "source": [
    "## Creating bucket"
   ],
   "cell_type": "markdown",
   "metadata": {}
  },
  {
   "cell_type": "code",
   "execution_count": 3,
   "metadata": {},
   "outputs": [],
   "source": [
    "# Create a random bucket name to avoid errors\n",
    "def create_bucket_name(bucket_prefix):\n",
    "    return ''.join([bucket_prefix, str(uuid.uuid4())])"
   ]
  },
  {
   "source": [
    "If the region is set to other different than US, the region must be stated when creating bucket instance."
   ],
   "cell_type": "markdown",
   "metadata": {}
  },
  {
   "cell_type": "code",
   "execution_count": 4,
   "metadata": {},
   "outputs": [],
   "source": [
    "def create_bucket(bucket_prefix, s3_connection, session=None):\n",
    "    \"\"\"\n",
    "    Create new bucket from session and s3 (client or resource) connection and assign a name based on a prefix.\n",
    "    :params bucket_prefix\n",
    "    :params s3_connection (can be client or resource)\n",
    "    :params session (optional if using non-default option)\n",
    "    \"\"\"\n",
    "    \n",
    "    #Create session if not exists\n",
    "    if session is None:\n",
    "        session = boto3.session.Session()\n",
    "    \n",
    "    BUCKET_NAME = create_bucket_name(bucket_prefix=bucket_prefix)\n",
    "    response = s3_connection.create_bucket(\n",
    "        Bucket=BUCKET_NAME,\n",
    "        CreateBucketConfiguration={\n",
    "            'LocationConstraint': session.region_name\n",
    "        })\n",
    "    return BUCKET_NAME, response"
   ]
  },
  {
   "source": [
    "I could use both the client and the resource to create buckets, receiving different responses:"
   ],
   "cell_type": "markdown",
   "metadata": {}
  },
  {
   "cell_type": "code",
   "execution_count": 5,
   "metadata": {},
   "outputs": [],
   "source": [
    "# Using resource\n",
    "s3_resource = session.resource('s3')\n",
    "first_bucket_name, first_response = create_bucket('firstbucket', s3_resource, session)"
   ]
  },
  {
   "cell_type": "code",
   "execution_count": 6,
   "metadata": {},
   "outputs": [
    {
     "output_type": "execute_result",
     "data": {
      "text/plain": [
       "s3.Bucket(name='firstbucket486e40b7-83db-461f-9c34-d6708ef46496')"
      ]
     },
     "metadata": {},
     "execution_count": 6
    }
   ],
   "source": [
    "first_response"
   ]
  },
  {
   "cell_type": "code",
   "execution_count": 7,
   "metadata": {},
   "outputs": [
    {
     "output_type": "execute_result",
     "data": {
      "text/plain": [
       "'firstbucket486e40b7-83db-461f-9c34-d6708ef46496'"
      ]
     },
     "metadata": {},
     "execution_count": 7
    }
   ],
   "source": [
    "first_response.name"
   ]
  },
  {
   "cell_type": "code",
   "execution_count": 8,
   "metadata": {},
   "outputs": [],
   "source": [
    "# Using client\n",
    "s3_client = session.client('s3')\n",
    "second_bucket_name, second_response = create_bucket('secondbucket', s3_client, session)"
   ]
  },
  {
   "cell_type": "code",
   "execution_count": 9,
   "metadata": {},
   "outputs": [
    {
     "output_type": "execute_result",
     "data": {
      "text/plain": [
       "{'ResponseMetadata': {'RequestId': '7AC15A6E80D0E17A',\n",
       "  'HostId': 'vaOi41YOvyFBlUXeDmZmUNqS8Nbu79c6UzZt4XJVS0s715bK5J17K015R1qn7gAyw4jonBzSzkY=',\n",
       "  'HTTPStatusCode': 200,\n",
       "  'HTTPHeaders': {'x-amz-id-2': 'vaOi41YOvyFBlUXeDmZmUNqS8Nbu79c6UzZt4XJVS0s715bK5J17K015R1qn7gAyw4jonBzSzkY=',\n",
       "   'x-amz-request-id': '7AC15A6E80D0E17A',\n",
       "   'date': 'Fri, 08 Jan 2021 20:24:38 GMT',\n",
       "   'location': 'http://secondbucket7b67ed25-2dc5-4b6a-82d8-78921e8ef4a8.s3.amazonaws.com/',\n",
       "   'content-length': '0',\n",
       "   'server': 'AmazonS3'},\n",
       "  'RetryAttempts': 0},\n",
       " 'Location': 'http://secondbucket7b67ed25-2dc5-4b6a-82d8-78921e8ef4a8.s3.amazonaws.com/'}"
      ]
     },
     "metadata": {},
     "execution_count": 9
    }
   ],
   "source": [
    "second_response"
   ]
  },
  {
   "source": [
    "The client will return a JSON response which is formated as a dictionary and I can navigate."
   ],
   "cell_type": "markdown",
   "metadata": {}
  },
  {
   "cell_type": "code",
   "execution_count": 10,
   "metadata": {},
   "outputs": [
    {
     "output_type": "execute_result",
     "data": {
      "text/plain": [
       "'http://secondbucket7b67ed25-2dc5-4b6a-82d8-78921e8ef4a8.s3.amazonaws.com/'"
      ]
     },
     "metadata": {},
     "execution_count": 10
    }
   ],
   "source": [
    "second_response['Location']"
   ]
  },
  {
   "source": [
    "## Adding data to my buckets"
   ],
   "cell_type": "markdown",
   "metadata": {}
  },
  {
   "source": [
    "Create artificial files to test"
   ],
   "cell_type": "markdown",
   "metadata": {}
  },
  {
   "cell_type": "code",
   "execution_count": 11,
   "metadata": {},
   "outputs": [],
   "source": [
    "def create_temp_file(size, file_name, file_content):\n",
    "    \"\"\"Create artificial files with a predetermined size and content\"\"\"\n",
    "    \n",
    "    random_file_name = ''.join([str(uuid.uuid4().hex[:6]), file_name])\n",
    "    with open(random_file_name, 'w') as f:\n",
    "        f.write(str(file_content) * size)\n",
    "    return random_file_name"
   ]
  },
  {
   "cell_type": "code",
   "execution_count": 12,
   "metadata": {},
   "outputs": [],
   "source": [
    "first_file_name = create_temp_file(300, 'firstfile.txt', 'f') "
   ]
  },
  {
   "cell_type": "code",
   "execution_count": 13,
   "metadata": {},
   "outputs": [],
   "source": [
    "# Instantiate bucket and object\n",
    "first_bucket = s3_resource.Bucket(name=first_bucket_name)\n",
    "first_object = s3_resource.Object(bucket_name=first_bucket_name, key=first_file_name)"
   ]
  },
  {
   "cell_type": "code",
   "execution_count": 14,
   "metadata": {},
   "outputs": [],
   "source": [
    "# We can create objects as subresources\n",
    "first_object_again = first_bucket.Object(first_file_name)"
   ]
  },
  {
   "cell_type": "code",
   "execution_count": 15,
   "metadata": {},
   "outputs": [],
   "source": [
    "# Or buckets as sub-resources\n",
    "first_bucket_again = first_object.Bucket()"
   ]
  },
  {
   "source": [
    "We can use sub-resources of either to obtain the other one. Moreover, files can be added to s3 by:\n",
    "\n",
    "- using an object instance\n",
    "- using a bucket instance\n",
    "- using a client"
   ],
   "cell_type": "markdown",
   "metadata": {}
  },
  {
   "cell_type": "code",
   "execution_count": 16,
   "metadata": {},
   "outputs": [],
   "source": [
    "# Using object instance\n",
    "first_object.upload_file(first_file_name)"
   ]
  },
  {
   "source": [
    "Now downloading a file I just uploaded"
   ],
   "cell_type": "markdown",
   "metadata": {}
  },
  {
   "cell_type": "code",
   "execution_count": 21,
   "metadata": {},
   "outputs": [],
   "source": [
    "# Similar approach can be used to download using Bucket instance\n",
    "s3_resource.Object(first_bucket_name, first_file_name).download_file(os.path.join(os.getcwd(), 'downloaded_file.txt'))"
   ]
  },
  {
   "cell_type": "code",
   "execution_count": 22,
   "metadata": {},
   "outputs": [
    {
     "output_type": "stream",
     "name": "stdout",
     "text": [
      "bc29f2firstfile.txt  downloaded_file.txt  s3_boto_guide.ipynb\n"
     ]
    }
   ],
   "source": [
    "%ls"
   ]
  },
  {
   "source": [
    "Copying objects between buckets"
   ],
   "cell_type": "markdown",
   "metadata": {}
  },
  {
   "cell_type": "code",
   "execution_count": 23,
   "metadata": {},
   "outputs": [],
   "source": [
    "def copy_to_bucket(bucket_from, bucket_to, file_name):\n",
    "    copy_source = {\n",
    "        'Bucket': bucket_from,\n",
    "        'Key': file_name\n",
    "    }\n",
    "    s3_resource.Object(bucket_to, file_name).copy(copy_source)"
   ]
  },
  {
   "cell_type": "code",
   "execution_count": 24,
   "metadata": {},
   "outputs": [],
   "source": [
    "copy_to_bucket(first_bucket_name, second_bucket_name, first_file_name)"
   ]
  },
  {
   "source": [
    "## Deleting objects"
   ],
   "cell_type": "markdown",
   "metadata": {}
  },
  {
   "cell_type": "code",
   "execution_count": 25,
   "metadata": {},
   "outputs": [
    {
     "output_type": "execute_result",
     "data": {
      "text/plain": [
       "{'ResponseMetadata': {'RequestId': 'B43F8A6822E36C5B',\n",
       "  'HostId': 'Uf0pCKsRw9t6dcPqNp9z6xIYFgf9k5F7ND1Rme7Zoqbb89qlgpKaCXTEWbAoIfhkAV2bROIszyU=',\n",
       "  'HTTPStatusCode': 204,\n",
       "  'HTTPHeaders': {'x-amz-id-2': 'Uf0pCKsRw9t6dcPqNp9z6xIYFgf9k5F7ND1Rme7Zoqbb89qlgpKaCXTEWbAoIfhkAV2bROIszyU=',\n",
       "   'x-amz-request-id': 'B43F8A6822E36C5B',\n",
       "   'date': 'Fri, 08 Jan 2021 20:28:28 GMT',\n",
       "   'server': 'AmazonS3'},\n",
       "  'RetryAttempts': 0}}"
      ]
     },
     "metadata": {},
     "execution_count": 25
    }
   ],
   "source": [
    "s3_resource.Object(second_bucket_name, first_file_name).delete()"
   ]
  },
  {
   "source": [
    "## ACL (access control list)"
   ],
   "cell_type": "markdown",
   "metadata": {}
  },
  {
   "source": [
    "Using ACL to make objects public"
   ],
   "cell_type": "markdown",
   "metadata": {}
  },
  {
   "cell_type": "code",
   "execution_count": 26,
   "metadata": {},
   "outputs": [],
   "source": [
    "second_file_name = create_temp_file(400, 'secondfile.txt', 's')"
   ]
  },
  {
   "cell_type": "code",
   "execution_count": 27,
   "metadata": {},
   "outputs": [],
   "source": [
    "second_object = s3_resource.Object(first_bucket.name, second_file_name) #Create object\n",
    "second_object.upload_file(second_file_name, ExtraArgs={'ACL': 'public-read'}) #pass extra parameters"
   ]
  },
  {
   "cell_type": "code",
   "execution_count": 28,
   "metadata": {},
   "outputs": [
    {
     "output_type": "execute_result",
     "data": {
      "text/plain": [
       "s3.ObjectAcl(bucket_name='firstbucket486e40b7-83db-461f-9c34-d6708ef46496', object_key='5e0a14secondfile.txt')"
      ]
     },
     "metadata": {},
     "execution_count": 28
    }
   ],
   "source": [
    "second_object.Acl()"
   ]
  },
  {
   "cell_type": "code",
   "execution_count": 29,
   "metadata": {},
   "outputs": [
    {
     "output_type": "execute_result",
     "data": {
      "text/plain": [
       "[{'Grantee': {'ID': 'e5f6bd524241279692f95063288f3ca5f7238610b72e16e9a5999e7d839bb2c5',\n",
       "   'Type': 'CanonicalUser'},\n",
       "  'Permission': 'FULL_CONTROL'},\n",
       " {'Grantee': {'Type': 'Group',\n",
       "   'URI': 'http://acs.amazonaws.com/groups/global/AllUsers'},\n",
       "  'Permission': 'READ'}]"
      ]
     },
     "metadata": {},
     "execution_count": 29
    }
   ],
   "source": [
    "second_object.Acl().grants"
   ]
  },
  {
   "cell_type": "code",
   "execution_count": 30,
   "metadata": {},
   "outputs": [],
   "source": [
    "# Convert object to private again\n",
    "response = second_object.Acl().put(ACL='private')"
   ]
  },
  {
   "cell_type": "code",
   "execution_count": 31,
   "metadata": {},
   "outputs": [
    {
     "output_type": "execute_result",
     "data": {
      "text/plain": [
       "[{'Grantee': {'ID': 'e5f6bd524241279692f95063288f3ca5f7238610b72e16e9a5999e7d839bb2c5',\n",
       "   'Type': 'CanonicalUser'},\n",
       "  'Permission': 'FULL_CONTROL'}]"
      ]
     },
     "metadata": {},
     "execution_count": 31
    }
   ],
   "source": [
    "second_object.Acl().grants"
   ]
  },
  {
   "source": [
    "## Encryption"
   ],
   "cell_type": "markdown",
   "metadata": {}
  },
  {
   "source": [
    "Adding encryption to files"
   ],
   "cell_type": "markdown",
   "metadata": {}
  },
  {
   "cell_type": "code",
   "execution_count": 32,
   "metadata": {},
   "outputs": [],
   "source": [
    "third_file_name = create_temp_file(300, 'thirdfile.txt', 't')"
   ]
  },
  {
   "cell_type": "code",
   "execution_count": 33,
   "metadata": {},
   "outputs": [],
   "source": [
    "third_object = s3_resource.Object(first_bucket_name, third_file_name)\n",
    "third_object.upload_file(third_file_name, ExtraArgs={'ServerSideEncryption': 'AES256'}) # pass extra parameters"
   ]
  },
  {
   "cell_type": "code",
   "execution_count": 34,
   "metadata": {},
   "outputs": [
    {
     "output_type": "execute_result",
     "data": {
      "text/plain": [
       "'AES256'"
      ]
     },
     "metadata": {},
     "execution_count": 34
    }
   ],
   "source": [
    "third_object.server_side_encryption"
   ]
  },
  {
   "source": [
    "## Traversals"
   ],
   "cell_type": "markdown",
   "metadata": {}
  },
  {
   "source": [
    "Bucket traversal:"
   ],
   "cell_type": "markdown",
   "metadata": {}
  },
  {
   "cell_type": "code",
   "execution_count": 35,
   "metadata": {},
   "outputs": [
    {
     "output_type": "stream",
     "name": "stdout",
     "text": [
      "firstbucket486e40b7-83db-461f-9c34-d6708ef46496\nsecondbucket7b67ed25-2dc5-4b6a-82d8-78921e8ef4a8\n"
     ]
    }
   ],
   "source": [
    "for bucket in s3_resource.buckets.all():\n",
    "    print(bucket.name)"
   ]
  },
  {
   "source": [
    "Object traversal:"
   ],
   "cell_type": "markdown",
   "metadata": {}
  },
  {
   "cell_type": "code",
   "execution_count": 36,
   "metadata": {},
   "outputs": [
    {
     "output_type": "stream",
     "name": "stdout",
     "text": [
      "18afaathirdfile.txt\n5e0a14secondfile.txt\nbc29f2firstfile.txt\n"
     ]
    }
   ],
   "source": [
    "for obj in first_bucket.objects.all():\n",
    "    print(obj.key)"
   ]
  },
  {
   "source": [
    "This provides an ObjectSummary instead of the object. To access an object, the sub-resource must be accessed through the bucket."
   ],
   "cell_type": "markdown",
   "metadata": {}
  },
  {
   "source": [
    "## Deleting resources\n",
    "\n",
    "Every single object inside a bucket must be deleted first."
   ],
   "cell_type": "markdown",
   "metadata": {}
  },
  {
   "cell_type": "code",
   "execution_count": 37,
   "metadata": {},
   "outputs": [],
   "source": [
    "# All the versions must be deleted\n",
    "def delete_all_objects(bucket_name):\n",
    "    res = []\n",
    "    bucket = s3_resource.Bucket(bucket_name)\n",
    "    for obj_v in bucket.object_versions.all():\n",
    "        res.append({\n",
    "            'Key': obj_v.object_key,\n",
    "            'VersionId': obj_v.id\n",
    "        })\n",
    "    print(res)\n",
    "    bucket.delete_objects(Delete={'Objects': res})"
   ]
  },
  {
   "cell_type": "code",
   "execution_count": 38,
   "metadata": {},
   "outputs": [
    {
     "output_type": "stream",
     "name": "stdout",
     "text": [
      "[{'Key': '18afaathirdfile.txt', 'VersionId': 'null'}, {'Key': '5e0a14secondfile.txt', 'VersionId': 'null'}, {'Key': 'bc29f2firstfile.txt', 'VersionId': 'null'}]\n"
     ]
    }
   ],
   "source": [
    "delete_all_objects(first_bucket_name)"
   ]
  },
  {
   "cell_type": "code",
   "execution_count": 39,
   "metadata": {},
   "outputs": [],
   "source": [
    "# Check that everything was deleted\n",
    "for obj in first_bucket.objects.all():\n",
    "    print(obj.key)"
   ]
  },
  {
   "source": [
    "Add some data to empty second bucket and test function:"
   ],
   "cell_type": "markdown",
   "metadata": {}
  },
  {
   "cell_type": "code",
   "execution_count": 40,
   "metadata": {},
   "outputs": [],
   "source": [
    "second_bucket = s3_resource.Bucket(second_bucket_name)\n",
    "second_bucket.Object(first_file_name).upload_file(first_file_name)"
   ]
  },
  {
   "cell_type": "code",
   "execution_count": 41,
   "metadata": {},
   "outputs": [
    {
     "output_type": "stream",
     "name": "stdout",
     "text": [
      "[{'Key': 'bc29f2firstfile.txt', 'VersionId': 'null'}]\n"
     ]
    }
   ],
   "source": [
    "delete_all_objects(second_bucket_name)"
   ]
  },
  {
   "cell_type": "code",
   "execution_count": 42,
   "metadata": {},
   "outputs": [],
   "source": [
    "# Check that everything was deleted\n",
    "for obj in s3_resource.Bucket(second_bucket_name).objects.all():\n",
    "    print(obj.key)"
   ]
  },
  {
   "source": [
    "Delete buckets now:"
   ],
   "cell_type": "markdown",
   "metadata": {}
  },
  {
   "cell_type": "code",
   "execution_count": 43,
   "metadata": {},
   "outputs": [
    {
     "output_type": "execute_result",
     "data": {
      "text/plain": [
       "{'ResponseMetadata': {'RequestId': 'BHEM9Z0JBT9SDS7J',\n",
       "  'HostId': 'wcqvDZDqt7IKg+7BsOS2SjNV1+f0L1mkaCkPrby9aM20+izOHGNyiFI66xIXgvRl++9EKdr/yMY=',\n",
       "  'HTTPStatusCode': 204,\n",
       "  'HTTPHeaders': {'x-amz-id-2': 'wcqvDZDqt7IKg+7BsOS2SjNV1+f0L1mkaCkPrby9aM20+izOHGNyiFI66xIXgvRl++9EKdr/yMY=',\n",
       "   'x-amz-request-id': 'BHEM9Z0JBT9SDS7J',\n",
       "   'date': 'Fri, 08 Jan 2021 20:31:41 GMT',\n",
       "   'server': 'AmazonS3'},\n",
       "  'RetryAttempts': 0}}"
      ]
     },
     "metadata": {},
     "execution_count": 43
    }
   ],
   "source": [
    "first_bucket.delete()"
   ]
  },
  {
   "cell_type": "code",
   "execution_count": 44,
   "metadata": {},
   "outputs": [
    {
     "output_type": "execute_result",
     "data": {
      "text/plain": [
       "{'ResponseMetadata': {'RequestId': '4EAE0C8B972A6D87',\n",
       "  'HostId': 'FHuikCt5jiYmeE804QylXq7McfBajUOcBxdl33grPyNuE8l1BkqRIVvGTB/BRhVSuWWhssi1dmo=',\n",
       "  'HTTPStatusCode': 204,\n",
       "  'HTTPHeaders': {'x-amz-id-2': 'FHuikCt5jiYmeE804QylXq7McfBajUOcBxdl33grPyNuE8l1BkqRIVvGTB/BRhVSuWWhssi1dmo=',\n",
       "   'x-amz-request-id': '4EAE0C8B972A6D87',\n",
       "   'date': 'Fri, 08 Jan 2021 20:31:42 GMT',\n",
       "   'server': 'AmazonS3'},\n",
       "  'RetryAttempts': 0}}"
      ]
     },
     "metadata": {},
     "execution_count": 44
    }
   ],
   "source": [
    "second_bucket.delete()"
   ]
  },
  {
   "source": [
    "## Exploring udacity data"
   ],
   "cell_type": "markdown",
   "metadata": {}
  },
  {
   "cell_type": "code",
   "execution_count": 45,
   "metadata": {},
   "outputs": [],
   "source": [
    "udacity_bucket_name = 'udacity-dend'"
   ]
  },
  {
   "cell_type": "code",
   "execution_count": 46,
   "metadata": {},
   "outputs": [],
   "source": [
    "udacity_bucket = s3_resource.Bucket(udacity_bucket_name)"
   ]
  },
  {
   "source": [
    "Explore songs using resource:"
   ],
   "cell_type": "markdown",
   "metadata": {}
  },
  {
   "cell_type": "code",
   "execution_count": 47,
   "metadata": {
    "tags": []
   },
   "outputs": [
    {
     "output_type": "stream",
     "name": "stdout",
     "text": [
      "song-data/\nsong-data/A/A/A/TRAAAAK128F9318786.json\nsong-data/A/A/A/TRAAAAV128F421A322.json\nsong-data/A/A/A/TRAAABD128F429CF47.json\nsong-data/A/A/A/TRAAACN128F9355673.json\nsong-data/A/A/A/TRAAAEA128F935A30D.json\nsong-data/A/A/A/TRAAAED128E0783FAB.json\nsong-data/A/A/A/TRAAAEM128F93347B9.json\nsong-data/A/A/A/TRAAAEW128F42930C0.json\nsong-data/A/A/A/TRAAAFD128F92F423A.json\nsong-data/A/A/A/TRAAAGR128F425B14B.json\n"
     ]
    }
   ],
   "source": [
    "for i, obj in enumerate(udacity_bucket.objects.filter(Prefix='song-data')):\n",
    "    print(obj.key)\n",
    "    if i>9:\n",
    "        break"
   ]
  },
  {
   "source": [
    "Download one file:"
   ],
   "cell_type": "markdown",
   "metadata": {}
  },
  {
   "cell_type": "code",
   "execution_count": 48,
   "metadata": {},
   "outputs": [],
   "source": [
    "json_file_name = 'song-data/A/A/A/TRAAAAK128F9318786.json'"
   ]
  },
  {
   "cell_type": "code",
   "execution_count": 49,
   "metadata": {},
   "outputs": [],
   "source": [
    "# Store in current working directory with the same name\n",
    "udacity_bucket.Object(key=json_file_name).download_file(\n",
    "    f\"{os.getcwd()}/{json_file_name.split('/')[-1]}\"\n",
    ")"
   ]
  },
  {
   "cell_type": "code",
   "execution_count": 50,
   "metadata": {},
   "outputs": [
    {
     "output_type": "stream",
     "name": "stdout",
     "text": [
      "18afaathirdfile.txt      TRAAAAK128F9318786.json  downloaded_file.txt\n5e0a14secondfile.txt     bc29f2firstfile.txt      s3_boto_guide.ipynb\n"
     ]
    }
   ],
   "source": [
    "%ls"
   ]
  },
  {
   "source": [
    "Now explore through the S3 client and extract files recursively:"
   ],
   "cell_type": "markdown",
   "metadata": {}
  },
  {
   "cell_type": "code",
   "execution_count": 51,
   "metadata": {},
   "outputs": [],
   "source": [
    "files = s3_client.list_objects(\n",
    "    Bucket=udacity_bucket_name,\n",
    "    MaxKeys=10,\n",
    "    Prefix='song-data/A'\n",
    ")['Contents']"
   ]
  },
  {
   "cell_type": "code",
   "execution_count": 53,
   "metadata": {},
   "outputs": [],
   "source": [
    "songs_sample = []\n",
    "for file in files:\n",
    "    obj = s3_client.get_object(Bucket=udacity_bucket_name, Key=file['Key'])\n",
    "    obj_json = json.loads(obj['Body'].read())\n",
    "    songs_sample.append(obj_json)    "
   ]
  },
  {
   "cell_type": "code",
   "execution_count": 54,
   "metadata": {},
   "outputs": [
    {
     "output_type": "execute_result",
     "data": {
      "text/plain": [
       "              song_id  num_songs  \\\n",
       "0  SOBLFFE12AF72AA5BA          1   \n",
       "1  SOQPWCR12A6D4FB2A3          1   \n",
       "2  SOCIWDW12A8C13D406          1   \n",
       "3  SOFRDWL12A58A7CEF7          1   \n",
       "4  SOEKAZG12AB018837E          1   \n",
       "5  SOXZYWX12A6310ED0C          1   \n",
       "6  SOIGICF12A8C141BC5          1   \n",
       "7  SODZYPO12A8C13A91E          1   \n",
       "8  SOFSOCN12A8C143F5D          1   \n",
       "9  SONRWUU12AF72A4283          1   \n",
       "\n",
       "                                           title        artist_name  \\\n",
       "0                                         Scream       Adelitas Way   \n",
       "1               A Poor Recipe For Civic Cohesion  Western Addiction   \n",
       "2                                      Soul Deep       The Box Tops   \n",
       "3                                   Hit Da Scene   Quest_ Pup_ Kevo   \n",
       "4  I'll Slap Your Face (Entertainment USA Theme)      Jonathan King   \n",
       "5                                It's About Time       Jamie Cullum   \n",
       "6                                   Game & Watch           Son Kite   \n",
       "7                   Burn My Body (Album Version)    Broken Spindles   \n",
       "8                                 Face the Ashes                Gob   \n",
       "9                             Into The Nightlife       Cyndi Lauper   \n",
       "\n",
       "   artist_latitude  year   duration           artist_id  artist_longitude  \\\n",
       "0              NaN  2009  213.94240  ARJNIUY12298900C91               NaN   \n",
       "1         37.77916  2005  118.07302  AR73AIO1187B9AD57B        -122.42005   \n",
       "2         35.14968  1969  148.03546  ARMJAGH1187FB546F3         -90.04892   \n",
       "3              NaN     0  252.94322  AR9Q9YC1187FB5609B               NaN   \n",
       "4         51.50632  2001  129.85424  ARSVTNL1187B992A91          -0.12714   \n",
       "5              NaN     0  246.98730  ARC1IHZ1187FB4E920               NaN   \n",
       "6              NaN  2004  580.54485  AREWD471187FB49873               NaN   \n",
       "7              NaN     0  177.99791  AR1C2IX1187B99BF74               NaN   \n",
       "8              NaN  2007  209.60608  ARXR32B1187FB57099               NaN   \n",
       "9              NaN  2008  240.63955  ARGE7G11187FB37E05               NaN   \n",
       "\n",
       "     artist_location  \n",
       "0                     \n",
       "1  San Francisco, CA  \n",
       "2        Memphis, TN  \n",
       "3         New Jersey  \n",
       "4    London, England  \n",
       "5                     \n",
       "6                     \n",
       "7                     \n",
       "8                     \n",
       "9       Brooklyn, NY  "
      ],
      "text/html": "<div>\n<style scoped>\n    .dataframe tbody tr th:only-of-type {\n        vertical-align: middle;\n    }\n\n    .dataframe tbody tr th {\n        vertical-align: top;\n    }\n\n    .dataframe thead th {\n        text-align: right;\n    }\n</style>\n<table border=\"1\" class=\"dataframe\">\n  <thead>\n    <tr style=\"text-align: right;\">\n      <th></th>\n      <th>song_id</th>\n      <th>num_songs</th>\n      <th>title</th>\n      <th>artist_name</th>\n      <th>artist_latitude</th>\n      <th>year</th>\n      <th>duration</th>\n      <th>artist_id</th>\n      <th>artist_longitude</th>\n      <th>artist_location</th>\n    </tr>\n  </thead>\n  <tbody>\n    <tr>\n      <th>0</th>\n      <td>SOBLFFE12AF72AA5BA</td>\n      <td>1</td>\n      <td>Scream</td>\n      <td>Adelitas Way</td>\n      <td>NaN</td>\n      <td>2009</td>\n      <td>213.94240</td>\n      <td>ARJNIUY12298900C91</td>\n      <td>NaN</td>\n      <td></td>\n    </tr>\n    <tr>\n      <th>1</th>\n      <td>SOQPWCR12A6D4FB2A3</td>\n      <td>1</td>\n      <td>A Poor Recipe For Civic Cohesion</td>\n      <td>Western Addiction</td>\n      <td>37.77916</td>\n      <td>2005</td>\n      <td>118.07302</td>\n      <td>AR73AIO1187B9AD57B</td>\n      <td>-122.42005</td>\n      <td>San Francisco, CA</td>\n    </tr>\n    <tr>\n      <th>2</th>\n      <td>SOCIWDW12A8C13D406</td>\n      <td>1</td>\n      <td>Soul Deep</td>\n      <td>The Box Tops</td>\n      <td>35.14968</td>\n      <td>1969</td>\n      <td>148.03546</td>\n      <td>ARMJAGH1187FB546F3</td>\n      <td>-90.04892</td>\n      <td>Memphis, TN</td>\n    </tr>\n    <tr>\n      <th>3</th>\n      <td>SOFRDWL12A58A7CEF7</td>\n      <td>1</td>\n      <td>Hit Da Scene</td>\n      <td>Quest_ Pup_ Kevo</td>\n      <td>NaN</td>\n      <td>0</td>\n      <td>252.94322</td>\n      <td>AR9Q9YC1187FB5609B</td>\n      <td>NaN</td>\n      <td>New Jersey</td>\n    </tr>\n    <tr>\n      <th>4</th>\n      <td>SOEKAZG12AB018837E</td>\n      <td>1</td>\n      <td>I'll Slap Your Face (Entertainment USA Theme)</td>\n      <td>Jonathan King</td>\n      <td>51.50632</td>\n      <td>2001</td>\n      <td>129.85424</td>\n      <td>ARSVTNL1187B992A91</td>\n      <td>-0.12714</td>\n      <td>London, England</td>\n    </tr>\n    <tr>\n      <th>5</th>\n      <td>SOXZYWX12A6310ED0C</td>\n      <td>1</td>\n      <td>It's About Time</td>\n      <td>Jamie Cullum</td>\n      <td>NaN</td>\n      <td>0</td>\n      <td>246.98730</td>\n      <td>ARC1IHZ1187FB4E920</td>\n      <td>NaN</td>\n      <td></td>\n    </tr>\n    <tr>\n      <th>6</th>\n      <td>SOIGICF12A8C141BC5</td>\n      <td>1</td>\n      <td>Game &amp; Watch</td>\n      <td>Son Kite</td>\n      <td>NaN</td>\n      <td>2004</td>\n      <td>580.54485</td>\n      <td>AREWD471187FB49873</td>\n      <td>NaN</td>\n      <td></td>\n    </tr>\n    <tr>\n      <th>7</th>\n      <td>SODZYPO12A8C13A91E</td>\n      <td>1</td>\n      <td>Burn My Body (Album Version)</td>\n      <td>Broken Spindles</td>\n      <td>NaN</td>\n      <td>0</td>\n      <td>177.99791</td>\n      <td>AR1C2IX1187B99BF74</td>\n      <td>NaN</td>\n      <td></td>\n    </tr>\n    <tr>\n      <th>8</th>\n      <td>SOFSOCN12A8C143F5D</td>\n      <td>1</td>\n      <td>Face the Ashes</td>\n      <td>Gob</td>\n      <td>NaN</td>\n      <td>2007</td>\n      <td>209.60608</td>\n      <td>ARXR32B1187FB57099</td>\n      <td>NaN</td>\n      <td></td>\n    </tr>\n    <tr>\n      <th>9</th>\n      <td>SONRWUU12AF72A4283</td>\n      <td>1</td>\n      <td>Into The Nightlife</td>\n      <td>Cyndi Lauper</td>\n      <td>NaN</td>\n      <td>2008</td>\n      <td>240.63955</td>\n      <td>ARGE7G11187FB37E05</td>\n      <td>NaN</td>\n      <td>Brooklyn, NY</td>\n    </tr>\n  </tbody>\n</table>\n</div>"
     },
     "metadata": {},
     "execution_count": 54
    }
   ],
   "source": [
    "pd.DataFrame(songs_sample)"
   ]
  },
  {
   "source": [
    "# Resources\n",
    "\n",
    "- Useful resource for handling from the client side [here](https://towardsdatascience.com/working-with-amazon-s3-buckets-with-boto3-785252ea22e0)\n",
    "- Handling data using resources [here](https://realpython.com/python-boto3-aws-s3/)"
   ],
   "cell_type": "markdown",
   "metadata": {}
  },
  {
   "cell_type": "code",
   "execution_count": null,
   "metadata": {},
   "outputs": [],
   "source": []
  }
 ]
}